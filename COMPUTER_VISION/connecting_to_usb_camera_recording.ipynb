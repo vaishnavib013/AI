{
 "cells": [
  {
   "cell_type": "code",
   "execution_count": 1,
   "metadata": {},
   "outputs": [],
   "source": [
    "#put this all in one cell\n",
    "import cv2\n",
    "#connect to your computer's default camera\n",
    "cap=cv2.VideoCapture(0)"
   ]
  },
  {
   "cell_type": "code",
   "execution_count": 2,
   "metadata": {},
   "outputs": [],
   "source": [
    "#automatically grAb the width and height from the video feed\n",
    "#return float which we need to convert to integer for later on!)\n",
    "width=int(cap.get(cv2.CAP_PROP_FRAME_WIDTH))\n",
    "height=int(cap.get(cv2.CAP_PROP_FRAME_HEIGHT))"
   ]
  },
  {
   "cell_type": "code",
   "execution_count": 4,
   "metadata": {},
   "outputs": [],
   "source": [
    "while True:\n",
    "    #captiure frame by frame\n",
    "    ret,frame=cap.read()\n",
    "    #our operation on the frame come here\n",
    "    gray=cv2.cvtColor(frame,cv2.COLOR_BGR2GRAY)\n",
    "    \n",
    "    #display the resulting frame#so here the frame is the upper frame only not any keyword\n",
    "    cv2.imshow('frame',gray)\n",
    "    \n",
    "    #this command let's us quit with the \"q\" button on a keyboard\n",
    "    #simply pressing X on the window wont work!\n",
    "    \n",
    "    if cv2.waitKey(1) & 0xFF ==ord('q'):\n",
    "        break\n",
    "        \n",
    "#when everything done,release the capture and destroy and destroy the windows\n",
    "cap.release()\n",
    "cv2.destroyAllWindows()"
   ]
  },
  {
   "cell_type": "code",
   "execution_count": 3,
   "metadata": {},
   "outputs": [],
   "source": [
    "while True:\n",
    "    #captiure frame by frame\n",
    "    ret,frame=cap.read()\n",
    "    #our operation on the frame come here\n",
    "   # gray=cv2.cvtColor(frame,cv2.COLOR_BGR2GRAY)\n",
    "    \n",
    "    #display the resulting frame#so here the frame is the upper frame only not any keyword\n",
    "    cv2.imshow('frame',frame)\n",
    "    \n",
    "    #this command let's us quit with the \"q\" button on a keyboard\n",
    "    #simply pressing X on the window wont work!\n",
    "    \n",
    "    if cv2.waitKey(1) & 0xFF ==ord('q'):\n",
    "        break\n",
    "        \n",
    "#when everything done,release the capture and destroy and destroy the windows\n",
    "cap.release()\n",
    "cv2.destroyAllWindows()"
   ]
  },
  {
   "cell_type": "code",
   "execution_count": 5,
   "metadata": {},
   "outputs": [],
   "source": [
    "#put this all in one cell\n",
    "import cv2\n",
    "#connect to your computer's default camera\n",
    "cap=cv2.VideoCapture(0)\n",
    "\n",
    "#automatically grAb the width and height from the video feed\n",
    "#return float which we need to convert to integer for later on!)\n",
    "width=int(cap.get(cv2.CAP_PROP_FRAME_WIDTH))\n",
    "height=int(cap.get(cv2.CAP_PROP_FRAME_HEIGHT))\n",
    "\n",
    "#macos and linux: *'XVID'(macos users may want to try vidx as well as just in)\n",
    "#windows: *'VIDX'\n",
    "writer=cv2.VideoWriter('C:/6-computer_vision/student_capture.mp4',\n",
    "                      cv2.VideoWriter_fourcc(*'XVID'),25,(width,height))\n",
    "#here 25 is the frames in the videos\n",
    "\n",
    "\n",
    "while True:\n",
    "    #captiure frame by frame\n",
    "    ret,frame=cap.read()\n",
    "    \n",
    "    #write the video\n",
    "    writer.write(frame)\n",
    "    \n",
    "   \n",
    "    #display the resulting frame\n",
    "    #so here the frame is the upper frame only not any keyword\n",
    "    cv2.imshow('frame',frame)\n",
    "    \n",
    "    #this command let's us quit with the \"q\" button on a keyboard\n",
    "    #simply pressing X on the window wont work!\n",
    "    \n",
    "    if cv2.waitKey(1) & 0xFF ==ord('q'):\n",
    "        break\n",
    "        \n",
    "#when everything done,release the capture and destroy and destroy the windows\n",
    "cap.release()\n",
    "writer.release()\n",
    "cv2.destroyAllWindows()"
   ]
  },
  {
   "cell_type": "code",
   "execution_count": null,
   "metadata": {},
   "outputs": [],
   "source": []
  }
 ],
 "metadata": {
  "kernelspec": {
   "display_name": "Python 3",
   "language": "python",
   "name": "python3"
  },
  "language_info": {
   "codemirror_mode": {
    "name": "ipython",
    "version": 3
   },
   "file_extension": ".py",
   "mimetype": "text/x-python",
   "name": "python",
   "nbconvert_exporter": "python",
   "pygments_lexer": "ipython3",
   "version": "3.6.6"
  }
 },
 "nbformat": 4,
 "nbformat_minor": 2
}
