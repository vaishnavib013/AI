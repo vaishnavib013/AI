{
 "cells": [
  {
   "cell_type": "code",
   "execution_count": 4,
   "metadata": {},
   "outputs": [],
   "source": [
    "import cv2\n",
    "import time\n",
    "#same command function as streaming ,its just now we pass in the file path,\n",
    "cap=cv2.VideoCapture('C:/6-computer_vision/student_capture.mp4')\n",
    "\n",
    "#frame per second for video\n",
    "fps=25\n",
    "\n",
    "#always a good idea to check if the video was actually there\n",
    "#if you get an error at this step,tripple check your file path!\n",
    "if cap.isOpened()==False:\n",
    "    print('Error opening the video file .please double chheck your file path')\n",
    "# while the video is opened\n",
    "while cap.isOpened():\n",
    "    #read the video file\n",
    "    ret,frame=cap.read()\n",
    "    \n",
    "    #if we got frames,show them.\n",
    "    if ret==True:\n",
    "        #display the frame at same frame rate of recording\n",
    "        \n",
    "        time.sleep(1/fps)\n",
    "        cv2.imshow('frame',frame)\n",
    "        \n",
    "        #press q to quit\n",
    "        if cv2.waitKey(25) & 0XFF ==ord('q'):\n",
    "            break\n",
    "            \n",
    "    #or automatically break this whole loop if the video is over\n",
    "    else:\n",
    "        break\n",
    "        \n",
    "cap.release()\n",
    "#closes all the frames\n",
    "cv2.destroyAllWindows()"
   ]
  },
  {
   "cell_type": "code",
   "execution_count": null,
   "metadata": {},
   "outputs": [],
   "source": []
  }
 ],
 "metadata": {
  "kernelspec": {
   "display_name": "Python 3",
   "language": "python",
   "name": "python3"
  },
  "language_info": {
   "codemirror_mode": {
    "name": "ipython",
    "version": 3
   },
   "file_extension": ".py",
   "mimetype": "text/x-python",
   "name": "python",
   "nbconvert_exporter": "python",
   "pygments_lexer": "ipython3",
   "version": "3.6.6"
  }
 },
 "nbformat": 4,
 "nbformat_minor": 2
}
